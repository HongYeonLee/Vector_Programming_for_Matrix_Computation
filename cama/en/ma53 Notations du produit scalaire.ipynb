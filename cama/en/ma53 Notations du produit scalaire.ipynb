{
 "metadata": {
  "kernelspec": {
   "display_name": "Python 3 (ipykernel)",
   "language": "python",
   "name": "python3"
  },
  "language_info": {
   "codemirror_mode": {
    "name": "ipython",
    "version": 3
   },
   "file_extension": ".py",
   "mimetype": "text/x-python",
   "name": "python",
   "nbconvert_exporter": "python",
   "pygments_lexer": "ipython3",
   "version": "3.8.10"
  }
 },
 "nbformat": 4,
 "nbformat_minor": 5,
 "cells": [
  {
   "cell_type": "markdown",
   "id": "68749ef1",
   "metadata": {
    "lang": "en"
   },
   "source": [
    "# Writings of the scalar product\n",
    "\n",
    "Here are 3 different ways to write the dot product. Some are clearer than others but all 3 are found in the literature.\n",
    "\n",
    "### ${\\bf v} \\,.\\, {\\bf w}$\n",
    "\n",
    "In the worksheet that follows and in the lesson thereafter, there are many dot products that use the point. It is important to note the order in which operators are solved in a formula like\n",
    "\n",
    "$$A \\, {\\bf v} \\, . \\, {\\bf w}$$\n",
    "\n",
    "* If we do $A  ({\\bf v} \\, . \\, {\\bf w})$ then the result is a matrix.\n",
    "* If we do $(A  {\\bf v} )\\, . \\, {\\bf w}$ then the result is a real.\n",
    "\n",
    "In the majority of cases and in particular in this course, the 2nd reading is the correct one.\n",
    "\n",
    "#### Hazard\n",
    "\n",
    "This writing is dangerous.\n",
    "Imagine multiplying our equation by $A^{-1}$. So we want to write\n",
    "\n",
    "$$\n",
    "A^{-1} \\, A \\, {\\bf v} \\, . \\, {\\bf w} = {\\bf v} \\, . \\, {\\bf w}\n",
    "$$\n",
    "\n",
    "but it is false (in the second case) because we forget what the point of the scalar product relates to.\n",
    "\n",
    "### ${\\bf v}^T \\, {\\bf w}$\n",
    "\n",
    "\n",
    "The matrix notation of the previous example is written\n",
    "\n",
    "$${\\bf v}^T A \\, {\\bf w}$$\n",
    "\n",
    "In this case, you can do the calculations in any order you like. If we start with the first 2 we will have a horizontal vector, if we start with the last 2 we will have a vertical vector. This notation is less risky when making\n",
    "more complex calculations.\n",
    "\n",
    "\n",
    "With matrix notation this risk does not exist since multiplying by $A^{-1}$ gives\n",
    "\n",
    "$$\n",
    "A^{-1} \\, {\\bf v}^T A \\, {\\bf w}\n",
    "$$\n",
    "\n",
    "and we can clearly see that the A's are not simplified.\n",
    "\n",
    "### $<{\\bf v}, {\\bf w}>$\n",
    "\n",
    "\n",
    "Another way to write the matrix product to avoid confusion is to use the signs\n",
    "< and > which gives **<a, b>** for the dot product between **a** and **b**. With this notation the error\n",
    "reading of the scalar product with the point disappears:\n",
    "\n",
    "$$\n",
    "A^{-1} \\, < A \\, {\\bf v} \\,, \\, {\\bf w}> \n",
    "$$\n",
    "\n",
    "Sometimes parentheses are used instead of lower and upper but I find that less readable."
   ]
  },
  {
   "cell_type": "code",
   "execution_count": null,
   "id": "db3e803c",
   "metadata": {},
   "outputs": [],
   "source": []
  }
 ]
}