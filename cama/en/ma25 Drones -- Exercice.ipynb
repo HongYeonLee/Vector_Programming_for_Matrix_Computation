{
 "metadata": {
  "kernelspec": {
   "display_name": "Python 3 (ipykernel)",
   "language": "python",
   "name": "python3"
  },
  "language_info": {
   "codemirror_mode": {
    "name": "ipython",
    "version": 3
   },
   "file_extension": ".py",
   "mimetype": "text/x-python",
   "name": "python",
   "nbconvert_exporter": "python",
   "pygments_lexer": "ipython3",
   "version": "3.11.8"
  }
 },
 "nbformat": 4,
 "nbformat_minor": 5,
 "cells": [
  {
   "cell_type": "markdown",
   "id": "899494b3",
   "metadata": {
    "lang": "en"
   },
   "source": [
    "# Drone show\n",
    "\n",
    "<img src=\"images/drone_boat.png\"/>"
   ]
  },
  {
   "cell_type": "markdown",
   "id": "ada5357c",
   "metadata": {
    "lang": "en"
   },
   "source": [
    "The goal is to make a nice night show.\n",
    "\n",
    "We have a set of 100 drones that form the image of a boat in 3D. For us it is a set of 3D points (center of gravity of each drone) that we store in a Numpy 3 by 100 table. The boat fits in a 20x20x20 cube.\n",
    "\n",
    "Initially\n",
    "\n",
    "*all the drones are centered at (0,0,0) so if you want to position the boat at (10, 20, 200) you have to translate the same amount over all the drones.* the main axis of the boat is the axis of x i.e. the front of the boat is at x=10 and the back at x=-10."
   ]
  },
  {
   "cell_type": "code",
   "execution_count": 1,
   "id": "58dcf259",
   "metadata": {
    "ExecuteTime": {
     "end_time": "2024-03-25T09:43:59.562566Z",
     "start_time": "2024-03-25T09:43:59.487939Z"
    }
   },
   "outputs": [
    {
     "data": {
      "text/plain": [
       "array([[-20.,  20.,   0.,   0.,   0.,   0.,   0.],\n",
       "       [  0.,   0.,   0.,   0.,   0., -10.,  10.],\n",
       "       [  0.,   0.,  -5.,   5.,   0.,   0.,   0.]])"
      ]
     },
     "execution_count": 1,
     "metadata": {},
     "output_type": "execute_result"
    }
   ],
   "source": [
    "import numpy as np\n",
    "\n",
    "#boat = np.random.randint(-100, 100, size=(3,10)) / 10   # with a little luck...\n",
    "\n",
    "# A formation that allows for easier debugging\n",
    "\n",
    "boat = np.array([[-20.,   0.,   0.],\n",
    "                 [ 20.,   0.,   0.],\n",
    "                 [  0.,   0.,  -5.],\n",
    "                 [  0.,   0.,   5.],\n",
    "                 [  0.,   0.,   0.],\n",
    "                 [  0., -10.,   0.],\n",
    "                 [  0.,  10.,   0.],\n",
    "                ])\n",
    "boat = boat.T\n",
    "boat"
   ]
  },
  {
   "cell_type": "markdown",
   "id": "1ab4a847",
   "metadata": {
    "lang": "en"
   },
   "source": [
    "We want to move the boat in the sky by making it do figures (the units used are the meter and the second). All movements are broken down second by second i.e. we give the position of all the drones every second (another program manages to move the drones to their next position).\n",
    "\n",
    "### Figure 1\n",
    "\n",
    "Rotate the boat (therefore all the drones) horizontally around the point (0,0,80) at a distance of 100 m. It makes a full turn in 5 minutes.\n",
    "\n",
    "Care should be taken that the orientation of the boat follows the movement, i.e. that the front of the boat is always well oriented."
   ]
  },
  {
   "cell_type": "code",
   "execution_count": null,
   "id": "4818926d",
   "metadata": {},
   "outputs": [],
   "source": [
    "\n",
    "def circle(boat, t):\n",
    "    "
   ]
  },
  {
   "cell_type": "code",
   "execution_count": null,
   "id": "35cc29f4",
   "metadata": {},
   "outputs": [],
   "source": [
    "# Code to display\n",
    "# Do not touch this unless you know what you are doing\n",
    "import matplotlib.animation\n",
    "import matplotlib.pyplot as plt\n",
    "from matplotlib.patches import Circle\n",
    "from matplotlib.transforms import Affine2D\n",
    "import mpl_toolkits.mplot3d.art3d as art3d\n",
    "matplotlib.rcParams['animation.embed_limit'] = 256 # 256mb max animation size\n",
    "\n",
    "plt.rcParams[\"animation.html\"] = \"jshtml\"\n",
    "plt.rcParams['figure.dpi'] = 100  \n",
    "plt.ioff()\n",
    "fig = plt.figure()\n",
    "ax = fig.add_subplot(projection='3d')\n",
    "\n",
    "# 5min -> 300 sec;\n",
    "FRAMEPERSEC = 1.\n",
    "\n",
    "def animate(t):\n",
    "    boat_prime = circle(boat_start, t/FRAMEPERSEC)\n",
    "    plt.cla()\n",
    "    p = Circle((0, 0), 100, fill=False)\n",
    "    ax.add_patch(p)\n",
    "    art3d.pathpatch_2d_to_3d(p, z=80, zdir=\"z\")\n",
    "    plt.plot(boat_prime[0,:], boat_prime[1,:], boat_prime[2,:], '.b')\n",
    "    ax.set_xlim([-120, 120])\n",
    "    ax.set_ylim([-120, 120])\n",
    "    ax.set_zlim([0, 120]) # alternative\n",
    "    ax.set_xlabel(\"x\")\n",
    "    ax.set_ylabel(\"y\")\n",
    "    ax.set_zlabel(\"z\")\n",
    "    ax.set_title(f\"t: {t} sec\")\n",
    "\n",
    "\n",
    "matplotlib.animation.FuncAnimation(fig, animate, frames=int(300*FRAMEPERSEC))"
   ]
  },
  {
   "cell_type": "markdown",
   "id": "d9ca0600",
   "metadata": {
    "lang": "en"
   },
   "source": [
    "### Figure 2\n",
    "\n",
    "We want to rotate the boat on its main axis (the x axis) until it returns to the original position. In aviation, this is called a barrel roll (rotation of 360 on the roll axis). Write the `barrel_roll(boat, T, t)` function that returns the position of each drone at time `t` given that a complete roll take `T` seconds."
   ]
  },
  {
   "cell_type": "code",
   "execution_count": null,
   "id": "3bbdb81d",
   "metadata": {},
   "outputs": [],
   "source": [
    "\n",
    "def barrel_rool(boat, T, t):\n"
   ]
  },
  {
   "cell_type": "code",
   "execution_count": null,
   "id": "3861ca65",
   "metadata": {},
   "outputs": [],
   "source": [
    "# Code to display\n",
    "# You can change this\n",
    "Tcomplete = 20\n",
    "\n",
    "\n",
    "fig = plt.figure()\n",
    "ax = fig.add_subplot(projection='3d')\n",
    "\n",
    "# Do not touch this unless you know what you are doing\n",
    "def animate2(t):\n",
    "    boat_prime = barrel_roll(boat, Tcomplete, t)\n",
    "    plt.cla()\n",
    "    plt.plot(boat_prime[0,:], boat_prime[1,:], boat_prime[2,:], '.b')\n",
    "    ax.set_xlim([-60, 60])\n",
    "    ax.set_ylim([-60, 60])\n",
    "    ax.set_zlim([-60, 60])\n",
    "    ax.set_xlabel(\"x\")\n",
    "    ax.set_ylabel(\"y\")\n",
    "    ax.set_zlabel(\"z\")\n",
    "    ax.set_title(f\"t: {t} sec\")\n",
    "\n",
    "# One frame per second for 2 complete rolls\n",
    "matplotlib.animation.FuncAnimation(fig, animate2, frames=2*Tcomplete)"
   ]
  },
  {
   "cell_type": "markdown",
   "id": "51d00ff1",
   "metadata": {
    "lang": "en"
   },
   "source": [
    "### Figure 3\n",
    "\n",
    "Combine figures 1 and 2 so that the boat rolls in 10 seconds every 30 seconds."
   ]
  },
  {
   "cell_type": "code",
   "execution_count": null,
   "id": "fc7aed8e",
   "metadata": {},
   "outputs": [],
   "source": [
    "\n",
    "def combined_move(boat, t):\n",
    "    "
   ]
  },
  {
   "cell_type": "code",
   "execution_count": null,
   "id": "d2265fd3",
   "metadata": {},
   "outputs": [],
   "source": [
    "# Code to display\n",
    "# Do not touch this unless you know what you are doing\n",
    "fig = plt.figure()\n",
    "ax = fig.add_subplot(projection='3d')\n",
    "\n",
    "def animate3(t):\n",
    "    boat_prime = combined_move(boat, t/FRAMEPERSEC)\n",
    "    plt.cla()\n",
    "    p = Circle((0, 0), 100, fill=False)\n",
    "    ax.add_patch(p)\n",
    "    art3d.pathpatch_2d_to_3d(p, z=80, zdir=\"z\")\n",
    "    plt.plot(boat_prime[0,:], boat_prime[1,:], boat_prime[2,:], '.b')\n",
    "    ax.set_xlim([-120, 120])\n",
    "    ax.set_ylim([-120, 120])\n",
    "    ax.set_zlim([0, 120])\n",
    "    ax.set_xlabel(\"x\")\n",
    "    ax.set_ylabel(\"y\")\n",
    "    ax.set_zlabel(\"z\")\n",
    "    ax.set_title(f\"t: {t} sec\")\n",
    "\n",
    "# 5min -> 300 sec\n",
    "matplotlib.animation.FuncAnimation(fig, animate3, frames=int(300*FRAMEPERSEC))"
   ]
  },
  {
   "cell_type": "code",
   "execution_count": null,
   "id": "7c2da47f",
   "metadata": {},
   "outputs": [],
   "source": []
  },
  {
   "cell_type": "code",
   "execution_count": null,
   "id": "2f9122e6-899e-4afa-a49a-992e48e99647",
   "metadata": {},
   "outputs": [],
   "source": []
  }
 ]
}