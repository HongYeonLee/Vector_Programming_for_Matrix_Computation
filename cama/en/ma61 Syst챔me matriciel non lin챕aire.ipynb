{
 "metadata": {
  "kernelspec": {
   "display_name": "Python 3 (ipykernel)",
   "language": "python",
   "name": "python3"
  },
  "language_info": {
   "codemirror_mode": {
    "name": "ipython",
    "version": 3
   },
   "file_extension": ".py",
   "mimetype": "text/x-python",
   "name": "python",
   "nbconvert_exporter": "python",
   "pygments_lexer": "ipython3",
   "version": "3.8.10"
  }
 },
 "nbformat": 4,
 "nbformat_minor": 2,
 "cells": [
  {
   "cell_type": "markdown",
   "metadata": {},
   "source": [
    "# Système matriciel non linéaire\n",
    "\n",
    "Si la matrice A dépend de ${\\bf x}$, ce qu'on écrit $A({\\bf x})$, alors le système\n",
    "matriciel \n",
    "\n",
    "$$\n",
    "A({\\bf x}) \\, {\\bf x} = {\\bf b}\n",
    "$$\n",
    "\n",
    "n'est pas linéaire.\n",
    "\n",
    "#### Exemple\n",
    "\n",
    "$$\n",
    "\\begin{bmatrix}\n",
    "1 &  x_1 \\\\\n",
    "2x_1 & -x_2 \\\\\n",
    "\\end{bmatrix}\n",
    "\\;\n",
    "\\begin{bmatrix}\n",
    "x_{1} \\\\\n",
    "x_{2} \\\\\n",
    "\\end{bmatrix}\n",
    "=\n",
    "\\begin{bmatrix}\n",
    "b_{1} \\\\\n",
    "b_{2} \\\\\n",
    "\\end{bmatrix}\n",
    "$$\n",
    "\n",
    "donne le système suivant qui n'est clairement pas linéaire puisqu'on a des\n",
    "carrés :\n",
    "\n",
    "$$\n",
    "\\begin{align}\n",
    "x_1 + x_1 \\, x_2 &= b_1 \\\\\n",
    "2 \\, x_1^2  - x_2^2 &= b_2 \n",
    "\\end{align}\n",
    "$$\n",
    "\n",
    "Comment résoudre un tel système ? A-t-il une solution ?\n",
    "\n",
    "On voit bien qu'il y a toujours autant d'équations que d'inconnues donc il y a\n",
    "de l'espoir. Par contre on sait que les équations du 2e degré ont plusieurs solutions donc il devrait en être de même dans certains cas."
   ]
  },
  {
   "cell_type": "markdown",
   "metadata": {},
   "source": [
    "### La méthode du point fixe\n",
    "\n",
    "La méthode du point fixe consiste à appliquer l'algorithme itératif suivant :\n",
    "\n",
    "$$\n",
    "{\\bf x}^{k+1} = {\\bf g}({\\bf x}^k)\n",
    "$$\n",
    "\n",
    "dans le but de résoudre l'équation ${\\bf g}({\\bf x}) = {\\bf x}$.\n",
    "\n",
    "Si vous ne connaissez pas cette méthode voici un exemple d'utilisation en 1D avec\n",
    "la courbe $g$ dessinée pour bien comprendre."
   ]
  },
  {
   "cell_type": "code",
   "execution_count": 1,
   "metadata": {},
   "outputs": [
    {
     "data": {
      "image/jpeg": "[encoded data removed]",
      "text/html": [
       "\n",
       "        <iframe\n",
       "            width=\"400\"\n",
       "            height=\"300\"\n",
       "            src=\"https://www.youtube.com/embed/ufPZOgrdHK4\"\n",
       "            frameborder=\"0\"\n",
       "            allowfullscreen\n",
       "        ></iframe>\n",
       "        "
      ],
      "text/plain": [
       "<IPython.lib.display.YouTubeVideo at 0x7f852a19f240>"
      ]
     },
     "execution_count": 1,
     "metadata": {},
     "output_type": "execute_result"
    }
   ],
   "source": [
    "from IPython.display import YouTubeVideo\n",
    "YouTubeVideo('ufPZOgrdHK4')"
   ]
  },
  {
   "cell_type": "markdown",
   "metadata": {},
   "source": [
    "On voit (si on a regardé la vidéo), on sait (sinon) que suivant le point de départ, la méthode converge ou diverge.\n",
    "\n",
    "\n",
    "Regardons comment on peut résoudre notre système non linéaire avec la méthode du point fixe."
   ]
  },
  {
   "cell_type": "markdown",
   "metadata": {},
   "source": [
    "### La méthode du point fixe pour résoudre $A({\\bf x}) \\, {\\bf x} = {\\bf b}$\n",
    "\n",
    "La première chose est de définir la fonction $\\bf g$ telle que la solution de \n",
    "${\\bf g}({\\bf x}) = {\\bf x}$ soit aussi la solution du système matriciel non linéaire.\n",
    "Cela implique que ${\\bf g}$ est :\n",
    "\n",
    "$$\n",
    "{\\bf g}({\\bf x}) = A^{-1}({\\bf x}) \\, {\\bf b}\n",
    "$$\n",
    "\n",
    "Bien sûr on sait qu'inverser A est trop cher aussi on préfère écrire notre\n",
    "algorithme itératif ${\\bf x^{k+1}} = {\\bf g}({\\bf x^k})$  sous forme de problème matriciel linéaire à résoudre :\n",
    "\n",
    "$$\n",
    "A({\\bf x}^k) \\, {\\bf x}^{k+1} = {\\bf b}\n",
    "$$\n",
    "\n",
    "Si on connait ${\\bf x}^k$ alors on peut évaluer $A({\\bf x}^k)$ et donc il\n",
    "s'agit d'une matrice de réels. On voit qu'alors le système est bien linéaire\n",
    "et qu'il permet de trouver ${\\bf x}^{k+1}$.\n",
    "\n",
    "Cet algorithme itératif peut donc marcher mais on sent bien que cela va\n",
    "dépendre du type de la matrice A (on a l'habitude) et de la valeur initiale\n",
    "${\\bf x}^0$ comme souligné dans la vidéo. De plus on voit qu'il va être\n",
    "très cher puisqu'on a un système matriciel à résoudre à chaque itération !"
   ]
  },
  {
   "cell_type": "markdown",
   "metadata": {},
   "source": [
    "### Test\n",
    "\n",
    "Regardons comment marche cet algorithme pour résoudre\n",
    "\n",
    "\n",
    "$$\n",
    "\\begin{bmatrix}\n",
    "x_0 - 2 x_1 &  x_1 \\\\\n",
    "x_0 & 2 x_0 + x_1 \\\\\n",
    "\\end{bmatrix}\n",
    "\\;\n",
    "\\begin{bmatrix}\n",
    "x_0 \\\\\n",
    "x_1 \\\\\n",
    "\\end{bmatrix}\n",
    "=\n",
    "\\begin{bmatrix}\n",
    "1 \\\\\n",
    "9 \\\\\n",
    "\\end{bmatrix}\n",
    "$$\n",
    "\n",
    "Il y a deux solutions qui sont [1, 2] et [2, 1]."
   ]
  },
  {
   "cell_type": "code",
   "execution_count": 1,
   "metadata": {},
   "outputs": [
    {
     "name": "stdout",
     "output_type": "stream",
     "text": [
      "x^1 =  [1.5 2.5]  erreur² =  0.48999999999999977\n",
      "x^2 =  [0.73913043 1.43478261]  erreur² =  0.18534274820344412\n",
      "x^3 =  [1.37617066 2.74037461]  erreur² =  0.6387945198307682\n",
      "x^4 =  [0.72846505 1.45602065]  erreur² =  0.18097695808599654\n",
      "x^5 =  [1.37323934 2.74623359]  erreur² =  0.6430523663786714\n",
      "x^6 =  [0.72824232 1.45646606]  erreur² =  0.1808855461166179\n",
      "x^7 =  [1.37317932 2.74635363]  erreur² =  0.6431399506048754\n",
      "x^8 =  [0.72823777 1.45647516]  erreur² =  0.1808836795920618\n",
      "x^9 =  [1.37317809 2.74635608]  erreur² =  0.6431417383272344\n"
     ]
    }
   ],
   "source": [
    "import numpy as np\n",
    "import numpy.linalg as lin\n",
    "\n",
    "def A(x):\n",
    "    return np.array([[x[0] - 2*x[1], x[1]] ,\n",
    "                     [x[0] , x[1] + 2*x[0]]]) / 10 \n",
    "\n",
    "b = np.array([1, 9]) / 10         # avec normalisation grossière\n",
    "\n",
    "x = np.array([1, 1])\n",
    "for i in range(1, 10):\n",
    "    x = lin.solve(A(x), b)\n",
    "    print(f'x^{i} = ', x, end='  ')\n",
    "    print(f'erreur² = ', np.square(A(x) @ x - b).sum())"
   ]
  },
  {
   "cell_type": "markdown",
   "metadata": {},
   "source": [
    "La solution oscille sans converger. On peut tester d'autre ${\\bf x}^0$ \n",
    "mais on obtient souvent le même résultat.\n",
    "\n",
    "La méthode du point fixe de base a un petit rayon de convergence à savoir il\n",
    "faut que la valeur initial soit proche de la solution pour converger.\n",
    "\n",
    "### Appliquons l'inertie\n",
    "\n",
    "Ou la méthode de surrelaxation qui consite à avancer moins vite vers le prochain\n",
    "point."
   ]
  },
  {
   "cell_type": "code",
   "execution_count": 6,
   "metadata": {},
   "outputs": [
    {
     "name": "stdout",
     "output_type": "stream",
     "text": [
      "x^1 =  [1.99601592 1.00199403]  erreur² =  2.845730924209918e-06\n",
      "x^2 =  [1.98435526 1.00784963]  erreur² =  4.338186795289511e-05\n",
      "x^3 =  [1.94167764 1.02955991]  erreur² =  0.00057735040271093\n",
      "x^4 =  [1.81575881 1.09680461]  erreur² =  0.005006527863139465\n",
      "x^5 =  [1.58849624 1.23874527]  erreur² =  0.017837680043912996\n",
      "x^6 =  [1.3654867  1.43296028]  erreur² =  0.023567622207356913\n",
      "x^7 =  [1.21494033 1.62266463]  erreur² =  0.015938576382362332\n",
      "x^8 =  [1.12471347 1.76667765]  erreur² =  0.007550226984782101\n",
      "x^9 =  [1.07194609 1.86111664]  erreur² =  0.0030000984268709436\n"
     ]
    }
   ],
   "source": [
    "µ = 0.5  # j'avance de moitié vers le prochain x\n",
    "\n",
    "x = np.array([1.998, 1])\n",
    "for i in range(1, 10):\n",
    "    x_old = x\n",
    "    x = lin.solve(A(x), b)\n",
    "    x = µ * x + (1-µ) * x_old\n",
    "    print(f'x^{i} = ', x, end='  ')\n",
    "    print(f'erreur² = ', np.square(A(x) @ x - b).sum())"
   ]
  },
  {
   "cell_type": "markdown",
   "metadata": {},
   "source": [
    "Et là la convergence est rapide. L'inertie augmente significativement le rayon\n",
    "de convergence de la méthode du point fixe (plus µ est petit et plus le rayon\n",
    "de convergence est grand mais moins on avance vite).\n",
    "\n",
    "Bien sûr l'algorithme converge vers l'une des solutions et y reste. Il ne peut\n",
    "pas trouver toutes les solutions. Si on veut trouver au autre solution il y\n",
    "faut choisir un autre point initial et avoir de la chance d'être dans le \n",
    "rayon de convergence de cette autre solution."
   ]
  },
  {
   "cell_type": "markdown",
   "metadata": {},
   "source": [
    "## La méthode de Newton-Raphson\n",
    "\n",
    "Il s'agit d'appliquer la méthode de Newton pour une fonction vectorielle.\n",
    "\n",
    "Voici une vidéo qui rappelle ce qu'est la méthode de Newton pour une fonction\n",
    "en 1D. Vous pouvez vous arrêter à la 4e minute."
   ]
  },
  {
   "cell_type": "code",
   "execution_count": 4,
   "metadata": {},
   "outputs": [
    {
     "data": {
      "image/jpeg": "[encoded data removed]",
      "text/html": [
       "\n",
       "        <iframe\n",
       "            width=\"400\"\n",
       "            height=\"300\"\n",
       "            src=\"https://www.youtube.com/embed/h0XUxE47l00\"\n",
       "            frameborder=\"0\"\n",
       "            allowfullscreen\n",
       "        ></iframe>\n",
       "        "
      ],
      "text/plain": [
       "<IPython.lib.display.YouTubeVideo at 0x7f852a19ffd0>"
      ]
     },
     "execution_count": 4,
     "metadata": {},
     "output_type": "execute_result"
    }
   ],
   "source": [
    "from IPython.display import YouTubeVideo\n",
    "YouTubeVideo('h0XUxE47l00')"
   ]
  },
  {
   "cell_type": "markdown",
   "metadata": {},
   "source": [
    "Dans notre cas on veut toujours résoudre notre système matriciel non linéaire.\n",
    "\n",
    "On va donc définir la méthode itérative par analogie avec la méthode 1D. En 1D on a :\n",
    "\n",
    "$$\n",
    "x^{k+1} = x^k - \\frac{f(x^k)}{f'(x^k)}  \\quad \\textrm{ou bien} \\\\\n",
    "f'(x^k) \\; (x^{k+1} - x^k) = - f(x^k)\n",
    "$$\n",
    "                               \n",
    "Cela donne en $n$ dimensions :\n",
    "\n",
    "$$\n",
    "J_{\\bf f}({\\bf x}^k) \\; ({\\bf x}^{k+1} - {\\bf x}^k) =  - {\\bf f}({\\bf x}^k)\n",
    "$$\n",
    "\n",
    "avec $J_{\\bf f}$ la matrice Jacobienne de ${\\bf f}$ :\n",
    "\n",
    "$$\n",
    "J_{\\bf f}\\left({\\bf x}\\right)=\n",
    "\\begin{pmatrix} \n",
    "\\dfrac{\\partial f_1}{\\partial x_1} & \\cdots & \\dfrac{\\partial f_1}{\\partial x_n} \\\\\n",
    "\\vdots & \\ddots & \\vdots \\\\\n",
    "\\dfrac{\\partial f_n}{\\partial x_1} & \\cdots & \\dfrac{\\partial f_n}{\\partial x_n}\n",
    "\\end{pmatrix}\n",
    "$$\n",
    "\n",
    "et pour notre système non linéaire\n",
    "\n",
    "$$\n",
    "{\\bf f}({\\bf x}) = A({\\bf x})\\, {\\bf x} - {\\bf b}\n",
    "$$\n",
    "\n",
    "On notera que ${\\bf f}$ est une fonction vectorielle à savoir qu'elle retourne\n",
    "un vecteur."
   ]
  },
  {
   "cell_type": "markdown",
   "metadata": {},
   "source": [
    "#### Test\n",
    "\n",
    "On reprend le même système matriciel :\n",
    "\n",
    "$$\n",
    "\\begin{bmatrix}\n",
    "x_0 - 2 x_1 &  x_1 \\\\\n",
    "x_0 & 2 x_0 + x_1 \\\\\n",
    "\\end{bmatrix}\n",
    "\\;\n",
    "\\begin{bmatrix}\n",
    "x_0 \\\\\n",
    "x_1 \\\\\n",
    "\\end{bmatrix}\n",
    "=\n",
    "\\begin{bmatrix}\n",
    "1 \\\\\n",
    "9 \\\\\n",
    "\\end{bmatrix}\n",
    "$$\n",
    "\n",
    "La matrice Jacobienne de la fonction ${\\bf f}$ définie ci-dessus est : \n",
    "\n",
    "$$\n",
    "J_{\\bf f}({\\bf x}) = \n",
    "\\begin{bmatrix}\n",
    "2 x_0 - 2 x_1 &  2 x_1  - 2 x_0\\\\\n",
    "2 x_0 + 2 x_1 & 2 x_0 + 2 x_1 \\\\\n",
    "\\end{bmatrix}\n",
    "$$\n"
   ]
  },
  {
   "cell_type": "code",
   "execution_count": 8,
   "metadata": {},
   "outputs": [
    {
     "name": "stdout",
     "output_type": "stream",
     "text": [
      "x^0 =  [0.80714286 1.40214286]  erreur² =  0.1738391124362817\n",
      "x^1 =  [0.82661178 1.47589539]  erreur² =  0.14013193945500102\n",
      "x^2 =  [0.84449678 1.53832416]  erreur² =  0.11305725653981773\n",
      "x^3 =  [0.86066582 1.59186587]  erreur² =  0.09127299702681221\n",
      "x^4 =  [0.87518409 1.63820488]  erreur² =  0.07372379277598218\n",
      "x^5 =  [0.88818095 1.67857971]  erreur² =  0.0595731611254003\n",
      "x^6 =  [0.89980142 1.71393945]  erreur² =  0.04815469077192336\n",
      "x^7 =  [0.91018754 1.74503332]  erreur² =  0.038935573039892035\n",
      "x^8 =  [0.91947123 1.77246602]  erreur² =  0.03148872349291875\n",
      "x^9 =  [0.92777209 1.79673415]  erreur² =  0.025471148220392294\n",
      "x^10 =  [0.9351973  1.81825117]  erreur² =  0.020606983474307096\n",
      "x^11 =  [0.94184231 1.83736516]  erreur² =  0.01667410290306686\n",
      "x^12 =  [0.94779187 1.85437189]  erreur² =  0.013493486464829903\n",
      "x^13 =  [0.9531212  1.86952455]  erreur² =  0.010920748632859209\n",
      "x^14 =  [0.95789703 1.88304134]  erreur² =  0.00883936731257032\n",
      "x^15 =  [0.96217855 1.89511126]  erreur² =  0.007155259635295223\n",
      "x^16 =  [0.96601835 1.90589887]  erreur² =  0.005792428863449946\n",
      "x^17 =  [0.96946319 1.91554793]  erreur² =  0.0046894658536456735\n",
      "x^18 =  [0.97255463 1.92418452]  erreur² =  0.003796734034536249\n",
      "x^19 =  [0.97532973 1.93191956]  erreur² =  0.0030741021940233564\n",
      "x^20 =  [0.97782148 1.93885083]  erreur² =  0.0024891170269789866\n",
      "x^21 =  [0.98005934 1.94506477]  erreur² =  0.002015529173331623\n",
      "x^22 =  [0.9820696  1.95063793]  erreur² =  0.0016321037099287408\n",
      "x^23 =  [0.98387574 1.95563824]  erreur² =  0.0013216597493956443\n",
      "x^24 =  [0.98549877 1.96012605]  erreur² =  0.0010702947077985679\n",
      "x^25 =  [0.98695747 1.96415505]  erreur² =  0.0008667575172292292\n",
      "x^26 =  [0.98826867 1.96777309]  erreur² =  0.0007019420351895113\n",
      "x^27 =  [0.98944742 1.97102285]  erreur² =  0.0005684774962019743\n",
      "x^28 =  [0.99050723 1.9739424 ]  erreur² =  0.0004603973426083823\n",
      "x^29 =  [0.99146019 1.9765658 ]  erreur² =  0.0003728713824135844\n"
     ]
    }
   ],
   "source": [
    "def f(x):\n",
    "    return A(x) @ x - b\n",
    "\n",
    "def J_f(x):\n",
    "    return 2 * np.array([[x[0] - x[1], x[1] - x[0]],\n",
    "                         [x[0] + x[1], x[0] + x[1]]])\n",
    "\n",
    "x = np.array([1, 1.1])\n",
    "for i in range(30):\n",
    "    delta = lin.solve(J_f(x), -f(x))\n",
    "    x = x + delta\n",
    "    print(f'x^{i} = ', x, end='  ')\n",
    "    print(f'erreur² = ', np.square(A(x) @ x - b).sum())"
   ]
  },
  {
   "cell_type": "markdown",
   "metadata": {},
   "source": [
    "On converge alors que la méthode du point fixe oscille \n",
    "sans convreger pour cette valeur initiale.\n",
    "\n",
    "On converge néanmoins moins vite qu'avec la méthode du point fixe sur-relaxée.\n",
    "\n",
    "**Remarques** sur la méthode de Newton-Raphson\n",
    "\n",
    "* Le coût de construction de la matrice Jacobienne peut être très lourd\n",
    "* Une technique pour aller plus vite consiste à dire que d'une itération à une\n",
    "  autre on n'a pas beaucoup bougé et donc la matrice Jacobienne n'a pas du trop \n",
    "  changer. Aussi on recalcule cette matrice que toutes les 3 ou plus itérations\n",
    "* Il s'agit d'une matrice pleine qu'il rend plus compliqué la résolution du système\n",
    "  lors de l'iteration (une méthode de gradiant ne marchera pas en général)"
   ]
  },
  {
   "cell_type": "code",
   "execution_count": null,
   "metadata": {},
   "outputs": [],
   "source": []
  }
 ]
}